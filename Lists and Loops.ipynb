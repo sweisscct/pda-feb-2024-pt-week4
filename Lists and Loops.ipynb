{
 "cells": [
  {
   "cell_type": "markdown",
   "id": "08a068e4",
   "metadata": {},
   "source": [
    "## Lists\n",
    "\n",
    "A collection of values\n",
    "\n",
    "**Remember** Programming languages start counting from **0**"
   ]
  },
  {
   "cell_type": "code",
   "execution_count": 1,
   "id": "d2ad96d9",
   "metadata": {},
   "outputs": [],
   "source": [
    "num1 = 10\n",
    "num2 = 5.5\n",
    "string1 = \"Hello, world\""
   ]
  },
  {
   "cell_type": "code",
   "execution_count": 2,
   "id": "0e3fd7e4",
   "metadata": {},
   "outputs": [],
   "source": [
    "numList = [10, 3, num1, 4, num2]"
   ]
  },
  {
   "cell_type": "code",
   "execution_count": 3,
   "id": "7409b675",
   "metadata": {},
   "outputs": [
    {
     "data": {
      "text/plain": [
       "list"
      ]
     },
     "execution_count": 3,
     "metadata": {},
     "output_type": "execute_result"
    }
   ],
   "source": [
    "type(numList)"
   ]
  },
  {
   "cell_type": "code",
   "execution_count": 4,
   "id": "84933c57",
   "metadata": {},
   "outputs": [
    {
     "data": {
      "text/plain": [
       "[10, 3, 10, 4, 5.5]"
      ]
     },
     "execution_count": 4,
     "metadata": {},
     "output_type": "execute_result"
    }
   ],
   "source": [
    "numList"
   ]
  },
  {
   "cell_type": "code",
   "execution_count": 5,
   "id": "bd1dce35",
   "metadata": {},
   "outputs": [
    {
     "data": {
      "text/plain": [
       "3"
      ]
     },
     "execution_count": 5,
     "metadata": {},
     "output_type": "execute_result"
    }
   ],
   "source": [
    "numList[1]"
   ]
  },
  {
   "cell_type": "code",
   "execution_count": 6,
   "id": "70427596",
   "metadata": {},
   "outputs": [
    {
     "data": {
      "text/plain": [
       "10"
      ]
     },
     "execution_count": 6,
     "metadata": {},
     "output_type": "execute_result"
    }
   ],
   "source": [
    "numList[0]"
   ]
  },
  {
   "cell_type": "code",
   "execution_count": 7,
   "id": "5b4d86e2",
   "metadata": {},
   "outputs": [
    {
     "ename": "IndexError",
     "evalue": "list index out of range",
     "output_type": "error",
     "traceback": [
      "\u001b[1;31m---------------------------------------------------------------------------\u001b[0m",
      "\u001b[1;31mIndexError\u001b[0m                                Traceback (most recent call last)",
      "Cell \u001b[1;32mIn[7], line 1\u001b[0m\n\u001b[1;32m----> 1\u001b[0m \u001b[43mnumList\u001b[49m\u001b[43m[\u001b[49m\u001b[38;5;241;43m9\u001b[39;49m\u001b[43m]\u001b[49m\n",
      "\u001b[1;31mIndexError\u001b[0m: list index out of range"
     ]
    }
   ],
   "source": [
    "#numList[9]"
   ]
  },
  {
   "cell_type": "code",
   "execution_count": 8,
   "id": "b846eba2",
   "metadata": {},
   "outputs": [
    {
     "data": {
      "text/plain": [
       "5.5"
      ]
     },
     "execution_count": 8,
     "metadata": {},
     "output_type": "execute_result"
    }
   ],
   "source": [
    "numList[4]"
   ]
  },
  {
   "cell_type": "code",
   "execution_count": 9,
   "id": "e4399716",
   "metadata": {},
   "outputs": [
    {
     "data": {
      "text/plain": [
       "5.5"
      ]
     },
     "execution_count": 9,
     "metadata": {},
     "output_type": "execute_result"
    }
   ],
   "source": [
    "numList[-1]"
   ]
  },
  {
   "cell_type": "code",
   "execution_count": 10,
   "id": "8943151a",
   "metadata": {},
   "outputs": [
    {
     "data": {
      "text/plain": [
       "[10, 3, 10, 4, 5.5]"
      ]
     },
     "execution_count": 10,
     "metadata": {},
     "output_type": "execute_result"
    }
   ],
   "source": [
    "numList"
   ]
  },
  {
   "cell_type": "code",
   "execution_count": 11,
   "id": "23ea741a",
   "metadata": {},
   "outputs": [
    {
     "data": {
      "text/plain": [
       "4"
      ]
     },
     "execution_count": 11,
     "metadata": {},
     "output_type": "execute_result"
    }
   ],
   "source": [
    "numList[-2]"
   ]
  },
  {
   "cell_type": "markdown",
   "id": "cdc7a09e",
   "metadata": {},
   "source": [
    "## Returning more than one value - slice"
   ]
  },
  {
   "cell_type": "code",
   "execution_count": 12,
   "id": "b8933816",
   "metadata": {},
   "outputs": [
    {
     "data": {
      "text/plain": [
       "[3, 10]"
      ]
     },
     "execution_count": 12,
     "metadata": {},
     "output_type": "execute_result"
    }
   ],
   "source": [
    "# numList[start:end], end is exclusive (not included)\n",
    "numList[1:3]"
   ]
  },
  {
   "cell_type": "code",
   "execution_count": 13,
   "id": "981f6ead",
   "metadata": {},
   "outputs": [
    {
     "data": {
      "text/plain": [
       "[10, 3, 10]"
      ]
     },
     "execution_count": 13,
     "metadata": {},
     "output_type": "execute_result"
    }
   ],
   "source": [
    "numList[0:3]"
   ]
  },
  {
   "cell_type": "code",
   "execution_count": 16,
   "id": "7837e87e",
   "metadata": {},
   "outputs": [
    {
     "data": {
      "text/plain": [
       "[10, 3, 10]"
      ]
     },
     "execution_count": 16,
     "metadata": {},
     "output_type": "execute_result"
    }
   ],
   "source": [
    "# start to index 3\n",
    "numList[:3]"
   ]
  },
  {
   "cell_type": "code",
   "execution_count": 17,
   "id": "6e4d82ac",
   "metadata": {},
   "outputs": [
    {
     "data": {
      "text/plain": [
       "[3, 10, 4, 5.5]"
      ]
     },
     "execution_count": 17,
     "metadata": {},
     "output_type": "execute_result"
    }
   ],
   "source": [
    "# index 1 to the end\n",
    "numList[1:]"
   ]
  },
  {
   "cell_type": "code",
   "execution_count": 19,
   "id": "6337f24c",
   "metadata": {},
   "outputs": [],
   "source": [
    "cutoff = 2\n",
    "firstHalf = numList[:cutoff]\n",
    "secondHalf = numList[cutoff:]"
   ]
  },
  {
   "cell_type": "code",
   "execution_count": 20,
   "id": "83e203f4",
   "metadata": {},
   "outputs": [
    {
     "data": {
      "text/plain": [
       "[10, 3]"
      ]
     },
     "execution_count": 20,
     "metadata": {},
     "output_type": "execute_result"
    }
   ],
   "source": [
    "firstHalf"
   ]
  },
  {
   "cell_type": "code",
   "execution_count": 21,
   "id": "3765d7fd",
   "metadata": {},
   "outputs": [
    {
     "data": {
      "text/plain": [
       "[10, 4, 5.5]"
      ]
     },
     "execution_count": 21,
     "metadata": {},
     "output_type": "execute_result"
    }
   ],
   "source": [
    "secondHalf"
   ]
  },
  {
   "cell_type": "code",
   "execution_count": 22,
   "id": "43ccd3e5",
   "metadata": {},
   "outputs": [
    {
     "data": {
      "text/plain": [
       "[10, 3, 10, 4, 5.5]"
      ]
     },
     "execution_count": 22,
     "metadata": {},
     "output_type": "execute_result"
    }
   ],
   "source": [
    "numList"
   ]
  },
  {
   "cell_type": "code",
   "execution_count": 23,
   "id": "ddfc0e9f",
   "metadata": {},
   "outputs": [],
   "source": [
    "numList.append(77)"
   ]
  },
  {
   "cell_type": "code",
   "execution_count": 24,
   "id": "d5fef31e",
   "metadata": {},
   "outputs": [
    {
     "data": {
      "text/plain": [
       "[10, 3, 10, 4, 5.5, 77]"
      ]
     },
     "execution_count": 24,
     "metadata": {},
     "output_type": "execute_result"
    }
   ],
   "source": [
    "numList"
   ]
  },
  {
   "cell_type": "code",
   "execution_count": 26,
   "id": "654b6421",
   "metadata": {},
   "outputs": [],
   "source": [
    "#numList.append(78, 79)"
   ]
  },
  {
   "cell_type": "code",
   "execution_count": 27,
   "id": "dcbd1e20",
   "metadata": {},
   "outputs": [],
   "source": [
    "numList.append([2, 4, 6, 8, 10])"
   ]
  },
  {
   "cell_type": "code",
   "execution_count": 28,
   "id": "420478ef",
   "metadata": {},
   "outputs": [
    {
     "data": {
      "text/plain": [
       "[10, 3, 10, 4, 5.5, 77, [2, 4, 6, 8, 10]]"
      ]
     },
     "execution_count": 28,
     "metadata": {},
     "output_type": "execute_result"
    }
   ],
   "source": [
    "numList"
   ]
  },
  {
   "cell_type": "code",
   "execution_count": 29,
   "id": "4029a576",
   "metadata": {},
   "outputs": [
    {
     "data": {
      "text/plain": [
       "[2, 4, 6, 8, 10]"
      ]
     },
     "execution_count": 29,
     "metadata": {},
     "output_type": "execute_result"
    }
   ],
   "source": [
    "numList[-1]"
   ]
  },
  {
   "cell_type": "code",
   "execution_count": 30,
   "id": "eb5ed724",
   "metadata": {},
   "outputs": [
    {
     "data": {
      "text/plain": [
       "4"
      ]
     },
     "execution_count": 30,
     "metadata": {},
     "output_type": "execute_result"
    }
   ],
   "source": [
    "numList[-1][1]"
   ]
  },
  {
   "cell_type": "code",
   "execution_count": 31,
   "id": "e591d71c",
   "metadata": {},
   "outputs": [],
   "source": [
    "numList.extend([1, 3, 5, 7, 9])"
   ]
  },
  {
   "cell_type": "code",
   "execution_count": 32,
   "id": "6149ab7a",
   "metadata": {},
   "outputs": [
    {
     "data": {
      "text/plain": [
       "[10, 3, 10, 4, 5.5, 77, [2, 4, 6, 8, 10], 1, 3, 5, 7, 9]"
      ]
     },
     "execution_count": 32,
     "metadata": {},
     "output_type": "execute_result"
    }
   ],
   "source": [
    "numList"
   ]
  },
  {
   "cell_type": "code",
   "execution_count": 33,
   "id": "b8b901da",
   "metadata": {},
   "outputs": [
    {
     "data": {
      "text/plain": [
       "9"
      ]
     },
     "execution_count": 33,
     "metadata": {},
     "output_type": "execute_result"
    }
   ],
   "source": [
    "numList[-1]"
   ]
  },
  {
   "cell_type": "markdown",
   "id": "ede9f476",
   "metadata": {},
   "source": [
    "## Exercise\n",
    "Access the 6, 8 in the inner list in numList"
   ]
  },
  {
   "cell_type": "code",
   "execution_count": null,
   "id": "9f2350cb",
   "metadata": {},
   "outputs": [],
   "source": []
  }
 ],
 "metadata": {
  "kernelspec": {
   "display_name": "Python 3 (ipykernel)",
   "language": "python",
   "name": "python3"
  },
  "language_info": {
   "codemirror_mode": {
    "name": "ipython",
    "version": 3
   },
   "file_extension": ".py",
   "mimetype": "text/x-python",
   "name": "python",
   "nbconvert_exporter": "python",
   "pygments_lexer": "ipython3",
   "version": "3.10.9"
  }
 },
 "nbformat": 4,
 "nbformat_minor": 5
}
