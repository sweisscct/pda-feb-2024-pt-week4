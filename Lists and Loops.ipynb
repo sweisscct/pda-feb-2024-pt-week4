{
 "cells": [
  {
   "cell_type": "markdown",
   "id": "676d6b93",
   "metadata": {},
   "source": [
    "## Lists\n",
    "\n",
    "A collection of values\n",
    "\n",
    "**Remember** Programming languages start counting from **0**"
   ]
  },
  {
   "cell_type": "code",
   "execution_count": 1,
   "id": "fa88db63",
   "metadata": {},
   "outputs": [],
   "source": [
    "num1 = 10\n",
    "num2 = 5.5\n",
    "string1 = \"Hello, world\""
   ]
  },
  {
   "cell_type": "code",
   "execution_count": 2,
   "id": "441d54fb",
   "metadata": {},
   "outputs": [],
   "source": [
    "numList = [10, 3, num1, 4, num2]"
   ]
  },
  {
   "cell_type": "code",
   "execution_count": 3,
   "id": "dacf6a3b",
   "metadata": {},
   "outputs": [
    {
     "data": {
      "text/plain": [
       "list"
      ]
     },
     "execution_count": 3,
     "metadata": {},
     "output_type": "execute_result"
    }
   ],
   "source": [
    "type(numList)"
   ]
  },
  {
   "cell_type": "code",
   "execution_count": 4,
   "id": "da2b2eac",
   "metadata": {},
   "outputs": [
    {
     "data": {
      "text/plain": [
       "[10, 3, 10, 4, 5.5]"
      ]
     },
     "execution_count": 4,
     "metadata": {},
     "output_type": "execute_result"
    }
   ],
   "source": [
    "numList"
   ]
  },
  {
   "cell_type": "code",
   "execution_count": 5,
   "id": "17407270",
   "metadata": {},
   "outputs": [
    {
     "data": {
      "text/plain": [
       "3"
      ]
     },
     "execution_count": 5,
     "metadata": {},
     "output_type": "execute_result"
    }
   ],
   "source": [
    "numList[1]"
   ]
  },
  {
   "cell_type": "code",
   "execution_count": 6,
   "id": "41b2266b",
   "metadata": {},
   "outputs": [
    {
     "data": {
      "text/plain": [
       "10"
      ]
     },
     "execution_count": 6,
     "metadata": {},
     "output_type": "execute_result"
    }
   ],
   "source": [
    "numList[0]"
   ]
  },
  {
   "cell_type": "code",
   "execution_count": 7,
   "id": "ec72ee42",
   "metadata": {},
   "outputs": [
    {
     "ename": "IndexError",
     "evalue": "list index out of range",
     "output_type": "error",
     "traceback": [
      "\u001b[1;31m---------------------------------------------------------------------------\u001b[0m",
      "\u001b[1;31mIndexError\u001b[0m                                Traceback (most recent call last)",
      "Cell \u001b[1;32mIn[7], line 1\u001b[0m\n\u001b[1;32m----> 1\u001b[0m \u001b[43mnumList\u001b[49m\u001b[43m[\u001b[49m\u001b[38;5;241;43m9\u001b[39;49m\u001b[43m]\u001b[49m\n",
      "\u001b[1;31mIndexError\u001b[0m: list index out of range"
     ]
    }
   ],
   "source": [
    "#numList[9]"
   ]
  },
  {
   "cell_type": "code",
   "execution_count": 8,
   "id": "465ac821",
   "metadata": {},
   "outputs": [
    {
     "data": {
      "text/plain": [
       "5.5"
      ]
     },
     "execution_count": 8,
     "metadata": {},
     "output_type": "execute_result"
    }
   ],
   "source": [
    "numList[4]"
   ]
  },
  {
   "cell_type": "code",
   "execution_count": 9,
   "id": "f82cd789",
   "metadata": {},
   "outputs": [
    {
     "data": {
      "text/plain": [
       "5.5"
      ]
     },
     "execution_count": 9,
     "metadata": {},
     "output_type": "execute_result"
    }
   ],
   "source": [
    "numList[-1]"
   ]
  },
  {
   "cell_type": "code",
   "execution_count": 10,
   "id": "58c48a1c",
   "metadata": {},
   "outputs": [
    {
     "data": {
      "text/plain": [
       "[10, 3, 10, 4, 5.5]"
      ]
     },
     "execution_count": 10,
     "metadata": {},
     "output_type": "execute_result"
    }
   ],
   "source": [
    "numList"
   ]
  },
  {
   "cell_type": "code",
   "execution_count": 11,
   "id": "a3ceb023",
   "metadata": {},
   "outputs": [
    {
     "data": {
      "text/plain": [
       "4"
      ]
     },
     "execution_count": 11,
     "metadata": {},
     "output_type": "execute_result"
    }
   ],
   "source": [
    "numList[-2]"
   ]
  },
  {
   "cell_type": "markdown",
   "id": "cee4d061",
   "metadata": {},
   "source": [
    "## Returning more than one value - slice"
   ]
  },
  {
   "cell_type": "code",
   "execution_count": 12,
   "id": "6ec04f01",
   "metadata": {},
   "outputs": [
    {
     "data": {
      "text/plain": [
       "[3, 10]"
      ]
     },
     "execution_count": 12,
     "metadata": {},
     "output_type": "execute_result"
    }
   ],
   "source": [
    "# numList[start:end], end is exclusive (not included)\n",
    "numList[1:3]"
   ]
  },
  {
   "cell_type": "code",
   "execution_count": 13,
   "id": "20ee3d6e",
   "metadata": {},
   "outputs": [
    {
     "data": {
      "text/plain": [
       "[10, 3, 10]"
      ]
     },
     "execution_count": 13,
     "metadata": {},
     "output_type": "execute_result"
    }
   ],
   "source": [
    "numList[0:3]"
   ]
  },
  {
   "cell_type": "code",
   "execution_count": 16,
   "id": "a23618cc",
   "metadata": {},
   "outputs": [
    {
     "data": {
      "text/plain": [
       "[10, 3, 10]"
      ]
     },
     "execution_count": 16,
     "metadata": {},
     "output_type": "execute_result"
    }
   ],
   "source": [
    "# start to index 3\n",
    "numList[:3]"
   ]
  },
  {
   "cell_type": "code",
   "execution_count": 17,
   "id": "28a7f262",
   "metadata": {},
   "outputs": [
    {
     "data": {
      "text/plain": [
       "[3, 10, 4, 5.5]"
      ]
     },
     "execution_count": 17,
     "metadata": {},
     "output_type": "execute_result"
    }
   ],
   "source": [
    "# index 1 to the end\n",
    "numList[1:]"
   ]
  },
  {
   "cell_type": "code",
   "execution_count": 19,
   "id": "371d1e09",
   "metadata": {},
   "outputs": [],
   "source": [
    "cutoff = 2\n",
    "firstHalf = numList[:cutoff]\n",
    "secondHalf = numList[cutoff:]"
   ]
  },
  {
   "cell_type": "code",
   "execution_count": 20,
   "id": "fc5fefb3",
   "metadata": {},
   "outputs": [
    {
     "data": {
      "text/plain": [
       "[10, 3]"
      ]
     },
     "execution_count": 20,
     "metadata": {},
     "output_type": "execute_result"
    }
   ],
   "source": [
    "firstHalf"
   ]
  },
  {
   "cell_type": "code",
   "execution_count": 21,
   "id": "d09b54fd",
   "metadata": {},
   "outputs": [
    {
     "data": {
      "text/plain": [
       "[10, 4, 5.5]"
      ]
     },
     "execution_count": 21,
     "metadata": {},
     "output_type": "execute_result"
    }
   ],
   "source": [
    "secondHalf"
   ]
  },
  {
   "cell_type": "code",
   "execution_count": 22,
   "id": "67a73701",
   "metadata": {},
   "outputs": [
    {
     "data": {
      "text/plain": [
       "[10, 3, 10, 4, 5.5]"
      ]
     },
     "execution_count": 22,
     "metadata": {},
     "output_type": "execute_result"
    }
   ],
   "source": [
    "numList"
   ]
  },
  {
   "cell_type": "code",
   "execution_count": 23,
   "id": "3420dbef",
   "metadata": {},
   "outputs": [],
   "source": [
    "numList.append(77)"
   ]
  },
  {
   "cell_type": "code",
   "execution_count": 24,
   "id": "9fdab416",
   "metadata": {},
   "outputs": [
    {
     "data": {
      "text/plain": [
       "[10, 3, 10, 4, 5.5, 77]"
      ]
     },
     "execution_count": 24,
     "metadata": {},
     "output_type": "execute_result"
    }
   ],
   "source": [
    "numList"
   ]
  },
  {
   "cell_type": "code",
   "execution_count": 26,
   "id": "010860de",
   "metadata": {},
   "outputs": [],
   "source": [
    "#numList.append(78, 79)"
   ]
  },
  {
   "cell_type": "code",
   "execution_count": 27,
   "id": "10edb30c",
   "metadata": {},
   "outputs": [],
   "source": [
    "numList.append([2, 4, 6, 8, 10])"
   ]
  },
  {
   "cell_type": "code",
   "execution_count": 28,
   "id": "82624459",
   "metadata": {},
   "outputs": [
    {
     "data": {
      "text/plain": [
       "[10, 3, 10, 4, 5.5, 77, [2, 4, 6, 8, 10]]"
      ]
     },
     "execution_count": 28,
     "metadata": {},
     "output_type": "execute_result"
    }
   ],
   "source": [
    "numList"
   ]
  },
  {
   "cell_type": "code",
   "execution_count": 29,
   "id": "33091b3e",
   "metadata": {},
   "outputs": [
    {
     "data": {
      "text/plain": [
       "[2, 4, 6, 8, 10]"
      ]
     },
     "execution_count": 29,
     "metadata": {},
     "output_type": "execute_result"
    }
   ],
   "source": [
    "numList[-1]"
   ]
  },
  {
   "cell_type": "code",
   "execution_count": 30,
   "id": "ec663e39",
   "metadata": {},
   "outputs": [
    {
     "data": {
      "text/plain": [
       "4"
      ]
     },
     "execution_count": 30,
     "metadata": {},
     "output_type": "execute_result"
    }
   ],
   "source": [
    "numList[-1][1]"
   ]
  },
  {
   "cell_type": "code",
   "execution_count": 31,
   "id": "a4b6869e",
   "metadata": {},
   "outputs": [],
   "source": [
    "numList.extend([1, 3, 5, 7, 9])"
   ]
  },
  {
   "cell_type": "code",
   "execution_count": 32,
   "id": "dbc6385a",
   "metadata": {},
   "outputs": [
    {
     "data": {
      "text/plain": [
       "[10, 3, 10, 4, 5.5, 77, [2, 4, 6, 8, 10], 1, 3, 5, 7, 9]"
      ]
     },
     "execution_count": 32,
     "metadata": {},
     "output_type": "execute_result"
    }
   ],
   "source": [
    "numList"
   ]
  },
  {
   "cell_type": "code",
   "execution_count": 33,
   "id": "b342351d",
   "metadata": {},
   "outputs": [
    {
     "data": {
      "text/plain": [
       "9"
      ]
     },
     "execution_count": 33,
     "metadata": {},
     "output_type": "execute_result"
    }
   ],
   "source": [
    "numList[-1]"
   ]
  },
  {
   "cell_type": "markdown",
   "id": "c4787952",
   "metadata": {},
   "source": [
    "## Exercise\n",
    "Access the 6, 8 in the inner list in numList"
   ]
  },
  {
   "cell_type": "code",
   "execution_count": 34,
   "id": "c43f0426",
   "metadata": {},
   "outputs": [
    {
     "data": {
      "text/plain": [
       "[2, 4, 6, 8, 10]"
      ]
     },
     "execution_count": 34,
     "metadata": {},
     "output_type": "execute_result"
    }
   ],
   "source": [
    "numList[6]"
   ]
  },
  {
   "cell_type": "code",
   "execution_count": 35,
   "id": "6f13720e",
   "metadata": {},
   "outputs": [
    {
     "data": {
      "text/plain": [
       "[6, 8]"
      ]
     },
     "execution_count": 35,
     "metadata": {},
     "output_type": "execute_result"
    }
   ],
   "source": [
    "numList[6][2:4]"
   ]
  },
  {
   "cell_type": "code",
   "execution_count": 36,
   "id": "9cca942d",
   "metadata": {},
   "outputs": [],
   "source": [
    "numList.append(\"Python\")"
   ]
  },
  {
   "cell_type": "code",
   "execution_count": 37,
   "id": "5a784a13",
   "metadata": {},
   "outputs": [
    {
     "data": {
      "text/plain": [
       "[10, 3, 10, 4, 5.5, 77, [2, 4, 6, 8, 10], 1, 3, 5, 7, 9, 'Python']"
      ]
     },
     "execution_count": 37,
     "metadata": {},
     "output_type": "execute_result"
    }
   ],
   "source": [
    "numList"
   ]
  },
  {
   "cell_type": "code",
   "execution_count": 38,
   "id": "6ccfaf59",
   "metadata": {},
   "outputs": [
    {
     "data": {
      "text/plain": [
       "13"
      ]
     },
     "execution_count": 38,
     "metadata": {},
     "output_type": "execute_result"
    }
   ],
   "source": [
    "len(numList)"
   ]
  },
  {
   "cell_type": "code",
   "execution_count": 39,
   "id": "e42b925d",
   "metadata": {},
   "outputs": [
    {
     "data": {
      "text/plain": [
       "6"
      ]
     },
     "execution_count": 39,
     "metadata": {},
     "output_type": "execute_result"
    }
   ],
   "source": [
    "len(numList[-1])"
   ]
  },
  {
   "cell_type": "code",
   "execution_count": 40,
   "id": "ad4ab126",
   "metadata": {},
   "outputs": [
    {
     "data": {
      "text/plain": [
       "5"
      ]
     },
     "execution_count": 40,
     "metadata": {},
     "output_type": "execute_result"
    }
   ],
   "source": [
    "len(numList[6])"
   ]
  },
  {
   "cell_type": "code",
   "execution_count": 41,
   "id": "3f0b7d21",
   "metadata": {},
   "outputs": [
    {
     "data": {
      "text/plain": [
       "10"
      ]
     },
     "execution_count": 41,
     "metadata": {},
     "output_type": "execute_result"
    }
   ],
   "source": [
    "num1"
   ]
  },
  {
   "cell_type": "code",
   "execution_count": 42,
   "id": "d5cccb9f",
   "metadata": {},
   "outputs": [],
   "source": [
    "num1 = 5"
   ]
  },
  {
   "cell_type": "code",
   "execution_count": 43,
   "id": "5918b596",
   "metadata": {},
   "outputs": [
    {
     "data": {
      "text/plain": [
       "[10, 3, 10, 4, 5.5, 77, [2, 4, 6, 8, 10], 1, 3, 5, 7, 9, 'Python']"
      ]
     },
     "execution_count": 43,
     "metadata": {},
     "output_type": "execute_result"
    }
   ],
   "source": [
    "numList"
   ]
  },
  {
   "cell_type": "code",
   "execution_count": 44,
   "id": "81d08d87",
   "metadata": {},
   "outputs": [],
   "source": [
    "numList[0] = \"Ben\""
   ]
  },
  {
   "cell_type": "code",
   "execution_count": 45,
   "id": "c8222653",
   "metadata": {},
   "outputs": [
    {
     "data": {
      "text/plain": [
       "'Ben'"
      ]
     },
     "execution_count": 45,
     "metadata": {},
     "output_type": "execute_result"
    }
   ],
   "source": [
    "numList[0]"
   ]
  },
  {
   "cell_type": "code",
   "execution_count": 46,
   "id": "7a777d08",
   "metadata": {},
   "outputs": [
    {
     "data": {
      "text/plain": [
       "['Ben', 3, 10, 4, 5.5, 77, [2, 4, 6, 8, 10], 1, 3, 5, 7, 9, 'Python']"
      ]
     },
     "execution_count": 46,
     "metadata": {},
     "output_type": "execute_result"
    }
   ],
   "source": [
    "numList"
   ]
  },
  {
   "cell_type": "markdown",
   "id": "38605388",
   "metadata": {},
   "source": [
    "### Removing elements"
   ]
  },
  {
   "cell_type": "code",
   "execution_count": 47,
   "id": "6987cbe3",
   "metadata": {},
   "outputs": [],
   "source": [
    "numList.remove(3)"
   ]
  },
  {
   "cell_type": "code",
   "execution_count": 48,
   "id": "e7a3e59c",
   "metadata": {},
   "outputs": [
    {
     "data": {
      "text/plain": [
       "['Ben', 10, 4, 5.5, 77, [2, 4, 6, 8, 10], 1, 3, 5, 7, 9, 'Python']"
      ]
     },
     "execution_count": 48,
     "metadata": {},
     "output_type": "execute_result"
    }
   ],
   "source": [
    "numList"
   ]
  },
  {
   "cell_type": "code",
   "execution_count": 49,
   "id": "b5319db8",
   "metadata": {},
   "outputs": [],
   "source": [
    "poppedValue = numList.pop(3)"
   ]
  },
  {
   "cell_type": "code",
   "execution_count": 50,
   "id": "a1ce7008",
   "metadata": {},
   "outputs": [
    {
     "data": {
      "text/plain": [
       "5.5"
      ]
     },
     "execution_count": 50,
     "metadata": {},
     "output_type": "execute_result"
    }
   ],
   "source": [
    "poppedValue"
   ]
  },
  {
   "cell_type": "code",
   "execution_count": 51,
   "id": "9b770a5c",
   "metadata": {},
   "outputs": [
    {
     "data": {
      "text/plain": [
       "['Ben', 10, 4, 77, [2, 4, 6, 8, 10], 1, 3, 5, 7, 9, 'Python']"
      ]
     },
     "execution_count": 51,
     "metadata": {},
     "output_type": "execute_result"
    }
   ],
   "source": [
    "numList"
   ]
  },
  {
   "cell_type": "markdown",
   "id": "da7b9840",
   "metadata": {},
   "source": [
    "### Aside"
   ]
  },
  {
   "cell_type": "code",
   "execution_count": 52,
   "id": "751fb32e",
   "metadata": {},
   "outputs": [],
   "source": [
    "import pandas as pd"
   ]
  },
  {
   "cell_type": "code",
   "execution_count": 54,
   "id": "9f5c90e8",
   "metadata": {},
   "outputs": [],
   "source": [
    "df = pd.DataFrame()"
   ]
  },
  {
   "cell_type": "code",
   "execution_count": null,
   "id": "04f4b761",
   "metadata": {},
   "outputs": [],
   "source": [
    "#df.pop()"
   ]
  },
  {
   "cell_type": "markdown",
   "id": "64172a46",
   "metadata": {},
   "source": [
    "### cont."
   ]
  },
  {
   "cell_type": "code",
   "execution_count": 56,
   "id": "7d46ba8b",
   "metadata": {},
   "outputs": [],
   "source": [
    "del numList[3]"
   ]
  },
  {
   "cell_type": "code",
   "execution_count": 57,
   "id": "a04cc6a1",
   "metadata": {},
   "outputs": [
    {
     "data": {
      "text/plain": [
       "['Ben', 10, 4, [2, 4, 6, 8, 10], 1, 3, 5, 7, 9, 'Python']"
      ]
     },
     "execution_count": 57,
     "metadata": {},
     "output_type": "execute_result"
    }
   ],
   "source": [
    "numList"
   ]
  },
  {
   "cell_type": "code",
   "execution_count": 61,
   "id": "1506b6da",
   "metadata": {},
   "outputs": [],
   "source": [
    "numList[3].sort(reverse=True)"
   ]
  },
  {
   "cell_type": "code",
   "execution_count": 62,
   "id": "f791d442",
   "metadata": {},
   "outputs": [
    {
     "data": {
      "text/plain": [
       "['Ben', 10, 4, [10, 8, 6, 4, 2], 1, 3, 5, 7, 9, 'Python']"
      ]
     },
     "execution_count": 62,
     "metadata": {},
     "output_type": "execute_result"
    }
   ],
   "source": [
    "numList"
   ]
  },
  {
   "cell_type": "code",
   "execution_count": 65,
   "id": "bee00a26",
   "metadata": {},
   "outputs": [
    {
     "data": {
      "text/plain": [
       "2"
      ]
     },
     "execution_count": 65,
     "metadata": {},
     "output_type": "execute_result"
    }
   ],
   "source": [
    "numList.index(4)"
   ]
  },
  {
   "cell_type": "code",
   "execution_count": 67,
   "id": "74310fbf",
   "metadata": {},
   "outputs": [
    {
     "ename": "ValueError",
     "evalue": "4 is not in list",
     "output_type": "error",
     "traceback": [
      "\u001b[1;31m---------------------------------------------------------------------------\u001b[0m",
      "\u001b[1;31mValueError\u001b[0m                                Traceback (most recent call last)",
      "Cell \u001b[1;32mIn[67], line 1\u001b[0m\n\u001b[1;32m----> 1\u001b[0m \u001b[43mnumList\u001b[49m\u001b[43m[\u001b[49m\u001b[38;5;241;43m3\u001b[39;49m\u001b[43m:\u001b[49m\u001b[43m]\u001b[49m\u001b[38;5;241;43m.\u001b[39;49m\u001b[43mindex\u001b[49m\u001b[43m(\u001b[49m\u001b[38;5;241;43m4\u001b[39;49m\u001b[43m)\u001b[49m\n",
      "\u001b[1;31mValueError\u001b[0m: 4 is not in list"
     ]
    }
   ],
   "source": [
    "numList[3:].index(4)"
   ]
  },
  {
   "cell_type": "code",
   "execution_count": null,
   "id": "1692180f",
   "metadata": {},
   "outputs": [],
   "source": [
    "df.head()"
   ]
  },
  {
   "cell_type": "code",
   "execution_count": 68,
   "id": "cd0df4cc",
   "metadata": {},
   "outputs": [],
   "source": [
    "def changeList():\n",
    "    numList.append(\"Python\")"
   ]
  },
  {
   "cell_type": "code",
   "execution_count": 69,
   "id": "bc724852",
   "metadata": {},
   "outputs": [
    {
     "data": {
      "text/plain": [
       "['Ben', 10, 4, [10, 8, 6, 4, 2], 1, 3, 5, 7, 9, 'Python']"
      ]
     },
     "execution_count": 69,
     "metadata": {},
     "output_type": "execute_result"
    }
   ],
   "source": [
    "numList"
   ]
  },
  {
   "cell_type": "code",
   "execution_count": 70,
   "id": "caa8bd90",
   "metadata": {},
   "outputs": [],
   "source": [
    "changeList()\n",
    "changeList()\n",
    "changeList()"
   ]
  },
  {
   "cell_type": "code",
   "execution_count": 71,
   "id": "df927e60",
   "metadata": {},
   "outputs": [
    {
     "data": {
      "text/plain": [
       "['Ben',\n",
       " 10,\n",
       " 4,\n",
       " [10, 8, 6, 4, 2],\n",
       " 1,\n",
       " 3,\n",
       " 5,\n",
       " 7,\n",
       " 9,\n",
       " 'Python',\n",
       " 'Python',\n",
       " 'Python',\n",
       " 'Python']"
      ]
     },
     "execution_count": 71,
     "metadata": {},
     "output_type": "execute_result"
    }
   ],
   "source": [
    "numList"
   ]
  },
  {
   "cell_type": "code",
   "execution_count": 72,
   "id": "b1b2b949",
   "metadata": {},
   "outputs": [
    {
     "name": "stdout",
     "output_type": "stream",
     "text": [
      "['Ben', 10, 4, [10, 8, 6, 4, 2], 1, 3, 5, 7, 9, 'Python', 'Python', 'Python', 'Python']\n"
     ]
    }
   ],
   "source": [
    "print(numList)"
   ]
  },
  {
   "cell_type": "code",
   "execution_count": 73,
   "id": "8ccb7bbc",
   "metadata": {},
   "outputs": [
    {
     "data": {
      "text/html": [
       "<div>\n",
       "<style scoped>\n",
       "    .dataframe tbody tr th:only-of-type {\n",
       "        vertical-align: middle;\n",
       "    }\n",
       "\n",
       "    .dataframe tbody tr th {\n",
       "        vertical-align: top;\n",
       "    }\n",
       "\n",
       "    .dataframe thead th {\n",
       "        text-align: right;\n",
       "    }\n",
       "</style>\n",
       "<table border=\"1\" class=\"dataframe\">\n",
       "  <thead>\n",
       "    <tr style=\"text-align: right;\">\n",
       "      <th></th>\n",
       "    </tr>\n",
       "  </thead>\n",
       "  <tbody>\n",
       "  </tbody>\n",
       "</table>\n",
       "</div>"
      ],
      "text/plain": [
       "Empty DataFrame\n",
       "Columns: []\n",
       "Index: []"
      ]
     },
     "execution_count": 73,
     "metadata": {},
     "output_type": "execute_result"
    }
   ],
   "source": [
    "df"
   ]
  },
  {
   "cell_type": "code",
   "execution_count": 74,
   "id": "4b438603",
   "metadata": {},
   "outputs": [
    {
     "data": {
      "text/html": [
       "<div>\n",
       "<style scoped>\n",
       "    .dataframe tbody tr th:only-of-type {\n",
       "        vertical-align: middle;\n",
       "    }\n",
       "\n",
       "    .dataframe tbody tr th {\n",
       "        vertical-align: top;\n",
       "    }\n",
       "\n",
       "    .dataframe thead th {\n",
       "        text-align: right;\n",
       "    }\n",
       "</style>\n",
       "<table border=\"1\" class=\"dataframe\">\n",
       "  <thead>\n",
       "    <tr style=\"text-align: right;\">\n",
       "      <th></th>\n",
       "    </tr>\n",
       "  </thead>\n",
       "  <tbody>\n",
       "  </tbody>\n",
       "</table>\n",
       "</div>"
      ],
      "text/plain": [
       "Empty DataFrame\n",
       "Columns: []\n",
       "Index: []"
      ]
     },
     "execution_count": 74,
     "metadata": {},
     "output_type": "execute_result"
    }
   ],
   "source": [
    "df.iloc[:, :10]"
   ]
  },
  {
   "cell_type": "code",
   "execution_count": 75,
   "id": "b900e6cf",
   "metadata": {},
   "outputs": [
    {
     "data": {
      "text/html": [
       "<div>\n",
       "<style scoped>\n",
       "    .dataframe tbody tr th:only-of-type {\n",
       "        vertical-align: middle;\n",
       "    }\n",
       "\n",
       "    .dataframe tbody tr th {\n",
       "        vertical-align: top;\n",
       "    }\n",
       "\n",
       "    .dataframe thead th {\n",
       "        text-align: right;\n",
       "    }\n",
       "</style>\n",
       "<table border=\"1\" class=\"dataframe\">\n",
       "  <thead>\n",
       "    <tr style=\"text-align: right;\">\n",
       "      <th></th>\n",
       "    </tr>\n",
       "  </thead>\n",
       "  <tbody>\n",
       "  </tbody>\n",
       "</table>\n",
       "</div>"
      ],
      "text/plain": [
       "Empty DataFrame\n",
       "Columns: []\n",
       "Index: []"
      ]
     },
     "execution_count": 75,
     "metadata": {},
     "output_type": "execute_result"
    }
   ],
   "source": [
    "df.head(10)"
   ]
  },
  {
   "cell_type": "markdown",
   "id": "5d935a93",
   "metadata": {},
   "source": [
    "## Loops"
   ]
  },
  {
   "cell_type": "code",
   "execution_count": null,
   "id": "28b088d3",
   "metadata": {},
   "outputs": [],
   "source": []
  }
 ],
 "metadata": {
  "kernelspec": {
   "display_name": "Python 3 (ipykernel)",
   "language": "python",
   "name": "python3"
  },
  "language_info": {
   "codemirror_mode": {
    "name": "ipython",
    "version": 3
   },
   "file_extension": ".py",
   "mimetype": "text/x-python",
   "name": "python",
   "nbconvert_exporter": "python",
   "pygments_lexer": "ipython3",
   "version": "3.10.9"
  }
 },
 "nbformat": 4,
 "nbformat_minor": 5
}
