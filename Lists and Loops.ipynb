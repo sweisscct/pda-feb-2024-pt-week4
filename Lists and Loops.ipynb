{
 "cells": [
  {
   "cell_type": "markdown",
   "id": "dd3a2fab",
   "metadata": {},
   "source": [
    "## Lists\n",
    "\n",
    "A collection of values\n",
    "\n",
    "**Remember** Programming languages start counting from **0**"
   ]
  },
  {
   "cell_type": "code",
   "execution_count": 1,
   "id": "ad8f9a49",
   "metadata": {},
   "outputs": [],
   "source": [
    "num1 = 10\n",
    "num2 = 5.5\n",
    "string1 = \"Hello, world\""
   ]
  },
  {
   "cell_type": "code",
   "execution_count": 2,
   "id": "2791ae46",
   "metadata": {},
   "outputs": [],
   "source": [
    "numList = [10, 3, num1, 4, num2]"
   ]
  },
  {
   "cell_type": "code",
   "execution_count": 3,
   "id": "2c8d8ab2",
   "metadata": {},
   "outputs": [
    {
     "data": {
      "text/plain": [
       "list"
      ]
     },
     "execution_count": 3,
     "metadata": {},
     "output_type": "execute_result"
    }
   ],
   "source": [
    "type(numList)"
   ]
  },
  {
   "cell_type": "code",
   "execution_count": 4,
   "id": "e2ec13bd",
   "metadata": {},
   "outputs": [
    {
     "data": {
      "text/plain": [
       "[10, 3, 10, 4, 5.5]"
      ]
     },
     "execution_count": 4,
     "metadata": {},
     "output_type": "execute_result"
    }
   ],
   "source": [
    "numList"
   ]
  },
  {
   "cell_type": "code",
   "execution_count": 5,
   "id": "096b7ef2",
   "metadata": {},
   "outputs": [
    {
     "data": {
      "text/plain": [
       "3"
      ]
     },
     "execution_count": 5,
     "metadata": {},
     "output_type": "execute_result"
    }
   ],
   "source": [
    "numList[1]"
   ]
  },
  {
   "cell_type": "code",
   "execution_count": 6,
   "id": "0de53753",
   "metadata": {},
   "outputs": [
    {
     "data": {
      "text/plain": [
       "10"
      ]
     },
     "execution_count": 6,
     "metadata": {},
     "output_type": "execute_result"
    }
   ],
   "source": [
    "numList[0]"
   ]
  },
  {
   "cell_type": "code",
   "execution_count": 7,
   "id": "403eb6f5",
   "metadata": {},
   "outputs": [
    {
     "ename": "IndexError",
     "evalue": "list index out of range",
     "output_type": "error",
     "traceback": [
      "\u001b[1;31m---------------------------------------------------------------------------\u001b[0m",
      "\u001b[1;31mIndexError\u001b[0m                                Traceback (most recent call last)",
      "Cell \u001b[1;32mIn[7], line 1\u001b[0m\n\u001b[1;32m----> 1\u001b[0m \u001b[43mnumList\u001b[49m\u001b[43m[\u001b[49m\u001b[38;5;241;43m9\u001b[39;49m\u001b[43m]\u001b[49m\n",
      "\u001b[1;31mIndexError\u001b[0m: list index out of range"
     ]
    }
   ],
   "source": [
    "#numList[9]"
   ]
  },
  {
   "cell_type": "code",
   "execution_count": 8,
   "id": "4f9ec2ac",
   "metadata": {},
   "outputs": [
    {
     "data": {
      "text/plain": [
       "5.5"
      ]
     },
     "execution_count": 8,
     "metadata": {},
     "output_type": "execute_result"
    }
   ],
   "source": [
    "numList[4]"
   ]
  },
  {
   "cell_type": "code",
   "execution_count": 9,
   "id": "61c5442e",
   "metadata": {},
   "outputs": [
    {
     "data": {
      "text/plain": [
       "5.5"
      ]
     },
     "execution_count": 9,
     "metadata": {},
     "output_type": "execute_result"
    }
   ],
   "source": [
    "numList[-1]"
   ]
  },
  {
   "cell_type": "code",
   "execution_count": 10,
   "id": "3428705a",
   "metadata": {},
   "outputs": [
    {
     "data": {
      "text/plain": [
       "[10, 3, 10, 4, 5.5]"
      ]
     },
     "execution_count": 10,
     "metadata": {},
     "output_type": "execute_result"
    }
   ],
   "source": [
    "numList"
   ]
  },
  {
   "cell_type": "code",
   "execution_count": null,
   "id": "404c4a70",
   "metadata": {},
   "outputs": [],
   "source": [
    "numList[-1]"
   ]
  }
 ],
 "metadata": {
  "kernelspec": {
   "display_name": "Python 3 (ipykernel)",
   "language": "python",
   "name": "python3"
  },
  "language_info": {
   "codemirror_mode": {
    "name": "ipython",
    "version": 3
   },
   "file_extension": ".py",
   "mimetype": "text/x-python",
   "name": "python",
   "nbconvert_exporter": "python",
   "pygments_lexer": "ipython3",
   "version": "3.10.9"
  }
 },
 "nbformat": 4,
 "nbformat_minor": 5
}
