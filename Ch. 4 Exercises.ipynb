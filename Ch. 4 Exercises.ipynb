{
 "cells": [
  {
   "cell_type": "markdown",
   "id": "d8f06ef6",
   "metadata": {},
   "source": [
    "## Exercise 5\n",
    "ABC\n",
    "\n",
    "Zap\n",
    "\n",
    "ABC"
   ]
  },
  {
   "cell_type": "code",
   "execution_count": 1,
   "id": "17686298",
   "metadata": {},
   "outputs": [
    {
     "name": "stdout",
     "output_type": "stream",
     "text": [
      "ABC\n",
      "Zap\n",
      "ABC\n"
     ]
    }
   ],
   "source": [
    "def fred():\n",
    "    print(\"Zap\")\n",
    "def jane():\n",
    "    print(\"ABC\")\n",
    "jane()\n",
    "fred()\n",
    "jane()"
   ]
  },
  {
   "cell_type": "markdown",
   "id": "b4c190a3",
   "metadata": {},
   "source": [
    "## Exercise 6: \n",
    "Rewrite your pay computation with time-and-a-half for over-\n",
    "time and create a function called computepay which takes two parameters\n",
    "(hours and rate)."
   ]
  },
  {
   "cell_type": "code",
   "execution_count": 2,
   "id": "444897c2",
   "metadata": {},
   "outputs": [],
   "source": [
    "def compute_pay(hours, rate):\n",
    "    try:\n",
    "        hours = float(hours)\n",
    "        rate = float(rate)\n",
    "        if hours > 40:\n",
    "            pay = (hours-40)*1.5*rate + 40*rate\n",
    "        else:\n",
    "            pay = hours * rate\n",
    "\n",
    "        print(f\"Your pay is: {pay}\")\n",
    "    except:\n",
    "        print(\"The inputs must be numeric values\")"
   ]
  },
  {
   "cell_type": "code",
   "execution_count": 3,
   "id": "92ff4403",
   "metadata": {},
   "outputs": [
    {
     "name": "stdout",
     "output_type": "stream",
     "text": [
      "Your pay is: 475.0\n"
     ]
    }
   ],
   "source": [
    "compute_pay(45, 10)"
   ]
  },
  {
   "cell_type": "code",
   "execution_count": 5,
   "id": "62a77bef",
   "metadata": {},
   "outputs": [
    {
     "name": "stdout",
     "output_type": "stream",
     "text": [
      "Your pay is: 475.0\n"
     ]
    }
   ],
   "source": [
    "compute_pay(hours=45, rate=10)"
   ]
  },
  {
   "cell_type": "code",
   "execution_count": 6,
   "id": "ca1e731a",
   "metadata": {},
   "outputs": [
    {
     "name": "stdout",
     "output_type": "stream",
     "text": [
      "Your pay is: 475.0\n"
     ]
    }
   ],
   "source": [
    "pay = compute_pay(hours=45, rate=10)"
   ]
  },
  {
   "cell_type": "code",
   "execution_count": 7,
   "id": "a83bb5ed",
   "metadata": {},
   "outputs": [],
   "source": [
    "pay"
   ]
  },
  {
   "cell_type": "code",
   "execution_count": 8,
   "id": "8fc4e47a",
   "metadata": {},
   "outputs": [
    {
     "data": {
      "text/plain": [
       "NoneType"
      ]
     },
     "execution_count": 8,
     "metadata": {},
     "output_type": "execute_result"
    }
   ],
   "source": [
    "type(pay)"
   ]
  },
  {
   "cell_type": "code",
   "execution_count": 9,
   "id": "002fb584",
   "metadata": {},
   "outputs": [],
   "source": [
    "def compute_pay(hours, rate):\n",
    "    try:\n",
    "        hours = float(hours)\n",
    "        rate = float(rate)\n",
    "        if hours > 40:\n",
    "            pay = (hours-40)*1.5*rate + 40*rate\n",
    "        else:\n",
    "            pay = hours * rate\n",
    "\n",
    "        print(f\"Your pay is: {pay}\")\n",
    "        return pay\n",
    "    except:\n",
    "        print(\"The inputs must be numeric values\")"
   ]
  },
  {
   "cell_type": "code",
   "execution_count": 10,
   "id": "b69239f6",
   "metadata": {},
   "outputs": [
    {
     "name": "stdout",
     "output_type": "stream",
     "text": [
      "Your pay is: 475.0\n"
     ]
    },
    {
     "data": {
      "text/plain": [
       "float"
      ]
     },
     "execution_count": 10,
     "metadata": {},
     "output_type": "execute_result"
    }
   ],
   "source": [
    "pay = compute_pay(hours=45, rate=10)\n",
    "type(pay)"
   ]
  },
  {
   "cell_type": "code",
   "execution_count": 11,
   "id": "d4658f37",
   "metadata": {},
   "outputs": [],
   "source": [
    "def compute_pay(hours, rate):\n",
    "    try:\n",
    "        hours = float(hours)\n",
    "        rate = float(rate)\n",
    "        if hours > 40:\n",
    "            pay = (hours-40)*1.5*rate + 40*rate\n",
    "        else:\n",
    "            pay = hours * rate\n",
    "        return pay\n",
    "        print(f\"Your pay is: {pay}\")\n",
    "        \n",
    "    except:\n",
    "        print(\"The inputs must be numeric values\")"
   ]
  },
  {
   "cell_type": "code",
   "execution_count": 13,
   "id": "9a9ab07f",
   "metadata": {},
   "outputs": [
    {
     "name": "stdout",
     "output_type": "stream",
     "text": [
      "475.0\n"
     ]
    }
   ],
   "source": [
    "pay2 = compute_pay(hours=45, rate=10)\n",
    "print(pay2)"
   ]
  },
  {
   "cell_type": "markdown",
   "id": "9b1abcba",
   "metadata": {},
   "source": [
    "## Exercise 7: \n",
    "Rewrite the grade program from the previous chapter using\n",
    "a function called `computegrade` that takes a score as its parameter and\n",
    "returns a grade as a string."
   ]
  },
  {
   "cell_type": "code",
   "execution_count": 14,
   "id": "86a52361",
   "metadata": {},
   "outputs": [],
   "source": [
    "def computegrade(score):\n",
    "    try:\n",
    "        score = float(score)\n",
    "        if score < 0:\n",
    "            print(\"Score needs to be between 0 and 1\")\n",
    "        elif score > 1:\n",
    "            print(\"Score needs to be between 0 and 1\")\n",
    "        elif score >= 0.9:\n",
    "            return \"A\"\n",
    "        elif score >= 0.8:\n",
    "            return \"B\"\n",
    "        elif score >= 0.7:\n",
    "            return \"C\"\n",
    "        elif score >= 0.6:\n",
    "            return \"D\"\n",
    "        else:\n",
    "            return \"F\"\n",
    "    except:\n",
    "        print(\"That is not a number. Please enter in a number!\")"
   ]
  },
  {
   "cell_type": "code",
   "execution_count": 15,
   "id": "dede0ead",
   "metadata": {},
   "outputs": [
    {
     "data": {
      "text/plain": [
       "'A'"
      ]
     },
     "execution_count": 15,
     "metadata": {},
     "output_type": "execute_result"
    }
   ],
   "source": [
    "computegrade(1)"
   ]
  },
  {
   "cell_type": "code",
   "execution_count": 16,
   "id": "e45ea7ed",
   "metadata": {},
   "outputs": [
    {
     "name": "stdout",
     "output_type": "stream",
     "text": [
      "Score needs to be between 0 and 1\n"
     ]
    }
   ],
   "source": [
    "computegrade(1.2)"
   ]
  },
  {
   "cell_type": "code",
   "execution_count": 17,
   "id": "380915ab",
   "metadata": {},
   "outputs": [
    {
     "data": {
      "text/plain": [
       "str"
      ]
     },
     "execution_count": 17,
     "metadata": {},
     "output_type": "execute_result"
    }
   ],
   "source": [
    "type(computegrade(1))"
   ]
  },
  {
   "cell_type": "code",
   "execution_count": 18,
   "id": "33346246",
   "metadata": {},
   "outputs": [
    {
     "name": "stdout",
     "output_type": "stream",
     "text": [
      "Score needs to be between 0 and 1\n"
     ]
    }
   ],
   "source": [
    "computegrade(-1)"
   ]
  },
  {
   "cell_type": "code",
   "execution_count": 19,
   "id": "6b6a7ae7",
   "metadata": {},
   "outputs": [
    {
     "name": "stdout",
     "output_type": "stream",
     "text": [
      "Score needs to be between 0 and 1\n"
     ]
    }
   ],
   "source": [
    "computegrade(5)"
   ]
  },
  {
   "cell_type": "code",
   "execution_count": 20,
   "id": "6caf64cc",
   "metadata": {},
   "outputs": [
    {
     "data": {
      "text/plain": [
       "'F'"
      ]
     },
     "execution_count": 20,
     "metadata": {},
     "output_type": "execute_result"
    }
   ],
   "source": [
    "computegrade(0.5)"
   ]
  },
  {
   "cell_type": "code",
   "execution_count": 21,
   "id": "484b828b",
   "metadata": {},
   "outputs": [
    {
     "data": {
      "text/plain": [
       "200.0"
      ]
     },
     "execution_count": 21,
     "metadata": {},
     "output_type": "execute_result"
    }
   ],
   "source": [
    "compute_pay(10, 20)"
   ]
  },
  {
   "cell_type": "code",
   "execution_count": null,
   "id": "3e83d0a1",
   "metadata": {},
   "outputs": [],
   "source": []
  }
 ],
 "metadata": {
  "kernelspec": {
   "display_name": "Python 3 (ipykernel)",
   "language": "python",
   "name": "python3"
  },
  "language_info": {
   "codemirror_mode": {
    "name": "ipython",
    "version": 3
   },
   "file_extension": ".py",
   "mimetype": "text/x-python",
   "name": "python",
   "nbconvert_exporter": "python",
   "pygments_lexer": "ipython3",
   "version": "3.10.9"
  }
 },
 "nbformat": 4,
 "nbformat_minor": 5
}
